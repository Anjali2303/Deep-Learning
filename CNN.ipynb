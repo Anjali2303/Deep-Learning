{
  "nbformat": 4,
  "nbformat_minor": 0,
  "metadata": {
    "colab": {
      "provenance": []
    },
    "kernelspec": {
      "name": "python3",
      "display_name": "Python 3"
    },
    "language_info": {
      "name": "python"
    }
  },
  "cells": [
    {
      "cell_type": "code",
      "execution_count": 1,
      "metadata": {
        "id": "Nwu7HuFYz4Gn"
      },
      "outputs": [],
      "source": [
        "# Import required libraries\n",
        "import numpy as np\n",
        "import keras\n",
        "from keras.models import Sequential\n",
        "from keras.layers import Dense, Dropout, Flatten\n",
        "from keras.layers import Conv2D, MaxPooling2D\n",
        "from keras.datasets import cifar10"
      ]
    },
    {
      "cell_type": "code",
      "source": [
        "# Load the dataset\n",
        "(x_train, y_train), (x_test, y_test) = cifar10.load_data()"
      ],
      "metadata": {
        "colab": {
          "base_uri": "https://localhost:8080/"
        },
        "id": "0D7coBo40kpt",
        "outputId": "61aff5f1-c9e8-4dd8-bbad-5f6193353bff"
      },
      "execution_count": 2,
      "outputs": [
        {
          "output_type": "stream",
          "name": "stdout",
          "text": [
            "Downloading data from https://www.cs.toronto.edu/~kriz/cifar-10-python.tar.gz\n",
            "170498071/170498071 [==============================] - 4s 0us/step\n"
          ]
        }
      ]
    },
    {
      "cell_type": "markdown",
      "source": [
        "This code normalizes the input data by converting the pixel values to floating point values between 0 and 1."
      ],
      "metadata": {
        "id": "yAKWvDMz1u9z"
      }
    },
    {
      "cell_type": "code",
      "source": [
        "# Normalize the input data\n",
        "x_train = x_train.astype('float32') / 255.0\n",
        "x_test = x_test.astype('float32') / 255.0"
      ],
      "metadata": {
        "id": "k5bs55qk0q-4"
      },
      "execution_count": 3,
      "outputs": []
    },
    {
      "cell_type": "markdown",
      "source": [
        "This code converts the class labels to one-hot encoded vectors using the to_categorical function from the Keras utilities module. \n",
        "\n",
        "The num_classes variable is set to 10 because the CIFAR-10 dataset has 10 classes."
      ],
      "metadata": {
        "id": "cCVn74V5150t"
      }
    },
    {
      "cell_type": "code",
      "source": [
        "# Convert class vectors to binary class matrices\n",
        "num_classes = 10\n",
        "y_train = keras.utils.to_categorical(y_train, num_classes)\n",
        "y_test = keras.utils.to_categorical(y_test, num_classes)"
      ],
      "metadata": {
        "id": "NRWChuZy0tBX"
      },
      "execution_count": 4,
      "outputs": []
    },
    {
      "cell_type": "markdown",
      "source": [
        "This code defines the CNN architecture using the Sequential API from Keras. The model consists of two sets of convolutional and pooling layers, followed by two fully connected layers with dropout regularization. Dropout regularization is used to prevent overfitting by randomly setting a fraction of input units to 0 during training.\n",
        "\n",
        "The input shape of the model is defined in the first layer using the shape of the input data. The padding parameter is set to 'same' to ensure that the output shape of the convolutional layers matches the input shape. The Conv2D layer represents the convolutional layer with 32 filters of size 3x3, followed by the ReLU activation function. The MaxPooling2D layer is used to reduce the spatial dimensions of the output of the convolutional layers.\n",
        "\n",
        "The 'Dropout' layer with a dropout rate of 0.25 is added after the pooling layer to prevent overfitting. This process is repeated with 64 filters in the second set of convolutional and pooling layers.\n",
        "\n",
        "The Flatten() layer is used to convert the output of the second pooling layer into a 1-dimensional feature vector. The Dense() layer with 512 neurons and ReLU activation function is added after the flattened output to create a fully connected layer. Another Dropout() layer with a dropout rate of 0.5 is added after the fully connected layer. Finally, the output layer is a Dense() layer with a softmax activation function, which gives the probability distribution over the 10 classes."
      ],
      "metadata": {
        "id": "4Ox03-Oy2PUJ"
      }
    },
    {
      "cell_type": "code",
      "source": [
        "# Define the CNN architecture\n",
        "model = Sequential()\n",
        "model.add(Conv2D(32, (3, 3), padding='same', activation='relu', input_shape=x_train.shape[1:]))\n",
        "model.add(Conv2D(32, (3, 3), activation='relu'))\n",
        "model.add(MaxPooling2D(pool_size=(2, 2)))\n",
        "model.add(Dropout(0.25))\n",
        "\n",
        "model.add(Conv2D(64, (3, 3), padding='same', activation='relu'))\n",
        "model.add(Conv2D(64, (3, 3), activation='relu'))\n",
        "model.add(MaxPooling2D(pool_size=(2, 2)))\n",
        "model.add(Dropout(0.25))\n",
        "\n",
        "model.add(Flatten())\n",
        "model.add(Dense(512, activation='relu'))\n",
        "model.add(Dropout(0.5))\n",
        "model.add(Dense(num_classes, activation='softmax'))"
      ],
      "metadata": {
        "id": "gqGjYSbk0va0"
      },
      "execution_count": 5,
      "outputs": []
    },
    {
      "cell_type": "markdown",
      "source": [
        "This line compiles the model using the compile() method of the Sequential() class. The loss function used here is categorical cross-entropy, which is appropriate for multi-class classification problems. \n",
        "\n",
        "The optimizer used here is Adam, which is a popular optimizer in deep learning. The metric used to evaluate the model is accuracy."
      ],
      "metadata": {
        "id": "UW_o8yip6VgZ"
      }
    },
    {
      "cell_type": "code",
      "source": [
        "# Compile the model\n",
        "model.compile(optimizer='adam', loss='categorical_crossentropy', metrics=['accuracy'])"
      ],
      "metadata": {
        "id": "X8Y6NVRY0yXH"
      },
      "execution_count": 6,
      "outputs": []
    },
    {
      "cell_type": "markdown",
      "source": [
        "This code trains the model using the fit() method of the Sequential() class. The input data x_train and the corresponding labels y_train are passed as arguments along with the batch size and the number of epochs. \n",
        "\n",
        "The validation data x_test and y_test are also passed as arguments to monitor the performance of the model on the test set during training. \n",
        "\n",
        "The shuffle parameter is set to True to shuffle the training data before each epoch. The training history is saved in the history variable."
      ],
      "metadata": {
        "id": "LzF9vDfy6ZbA"
      }
    },
    {
      "cell_type": "code",
      "source": [
        "# Train the model\n",
        "batch_size = 32\n",
        "epochs = 10\n",
        "model.fit(x_train, y_train, batch_size=batch_size, epochs=epochs, validation_data=(x_test, y_test), shuffle=True)"
      ],
      "metadata": {
        "colab": {
          "base_uri": "https://localhost:8080/"
        },
        "id": "J5kj1ZzV00jP",
        "outputId": "2eca5179-ebf4-4cdf-dbb2-b18404a15521"
      },
      "execution_count": 7,
      "outputs": [
        {
          "output_type": "stream",
          "name": "stdout",
          "text": [
            "Epoch 1/10\n",
            "1563/1563 [==============================] - 287s 182ms/step - loss: 1.5149 - accuracy: 0.4449 - val_loss: 1.2019 - val_accuracy: 0.5729\n",
            "Epoch 2/10\n",
            "1563/1563 [==============================] - 289s 185ms/step - loss: 1.1454 - accuracy: 0.5948 - val_loss: 0.9902 - val_accuracy: 0.6496\n",
            "Epoch 3/10\n",
            "1563/1563 [==============================] - 296s 190ms/step - loss: 0.9975 - accuracy: 0.6482 - val_loss: 0.8733 - val_accuracy: 0.6949\n",
            "Epoch 4/10\n",
            "1563/1563 [==============================] - 289s 185ms/step - loss: 0.9096 - accuracy: 0.6815 - val_loss: 0.8042 - val_accuracy: 0.7184\n",
            "Epoch 5/10\n",
            "1563/1563 [==============================] - 288s 184ms/step - loss: 0.8417 - accuracy: 0.7046 - val_loss: 0.7927 - val_accuracy: 0.7264\n",
            "Epoch 6/10\n",
            "1563/1563 [==============================] - 285s 183ms/step - loss: 0.7893 - accuracy: 0.7218 - val_loss: 0.7278 - val_accuracy: 0.7495\n",
            "Epoch 7/10\n",
            "1563/1563 [==============================] - 293s 188ms/step - loss: 0.7531 - accuracy: 0.7373 - val_loss: 0.7161 - val_accuracy: 0.7523\n",
            "Epoch 8/10\n",
            "1563/1563 [==============================] - 298s 190ms/step - loss: 0.7181 - accuracy: 0.7480 - val_loss: 0.6802 - val_accuracy: 0.7658\n",
            "Epoch 9/10\n",
            "1563/1563 [==============================] - 293s 188ms/step - loss: 0.6868 - accuracy: 0.7581 - val_loss: 0.6949 - val_accuracy: 0.7617\n",
            "Epoch 10/10\n",
            "1563/1563 [==============================] - 294s 188ms/step - loss: 0.6690 - accuracy: 0.7649 - val_loss: 0.6697 - val_accuracy: 0.7725\n"
          ]
        },
        {
          "output_type": "execute_result",
          "data": {
            "text/plain": [
              "<keras.callbacks.History at 0x7f69093fdd30>"
            ]
          },
          "metadata": {},
          "execution_count": 7
        }
      ]
    },
    {
      "cell_type": "markdown",
      "source": [
        "This code evaluates the trained model on the test set using the evaluate() method of the Sequential() class. \n",
        "\n",
        "The input data x_test and the corresponding labels y_test are passed as arguments. The verbose parameter is set to 1 to print the progress during evaluation. \n",
        "\n",
        "\n",
        "\n"
      ],
      "metadata": {
        "id": "sqjHC5-a6ogX"
      }
    },
    {
      "cell_type": "code",
      "source": [
        "# Evaluate the model on the test data\n",
        "score = model.evaluate(x_test, y_test, verbose=0)\n",
        "print('Test loss:', score[0])\n",
        "print('Test accuracy:', score[1])"
      ],
      "metadata": {
        "colab": {
          "base_uri": "https://localhost:8080/"
        },
        "id": "UGnHKgGB02Gf",
        "outputId": "ca83d680-ef4c-41f6-c7f7-bb745c876a98"
      },
      "execution_count": 8,
      "outputs": [
        {
          "output_type": "stream",
          "name": "stdout",
          "text": [
            "Test loss: 0.669738233089447\n",
            "Test accuracy: 0.7724999785423279\n"
          ]
        }
      ]
    }
  ]
}